{
 "cells": [
  {
   "cell_type": "markdown",
   "id": "05f34b97-50d0-49f3-a29a-ff3421b49342",
   "metadata": {},
   "source": [
    "# Recommendation Systems Evolutionary Dynamics"
   ]
  },
  {
   "cell_type": "markdown",
   "id": "95b5314f-47f1-4326-b28a-617f37d43632",
   "metadata": {},
   "source": [
    "## Imports"
   ]
  },
  {
   "cell_type": "code",
   "execution_count": 1,
   "id": "1e387bfc-6031-44eb-ab5a-e2858d7b137e",
   "metadata": {},
   "outputs": [],
   "source": [
    "from recommendation_systems_evolutionary_dynamics import EGT\n",
    "import numpy as np"
   ]
  },
  {
   "cell_type": "markdown",
   "id": "2ef6088b-4bd1-499d-9f84-2d1d186d0049",
   "metadata": {},
   "source": [
    "## Initialize Populations"
   ]
  },
  {
   "cell_type": "code",
   "execution_count": 28,
   "id": "e127cd98-a836-46e7-a59a-cda788f633b7",
   "metadata": {},
   "outputs": [
    {
     "name": "stdout",
     "output_type": "stream",
     "text": [
      "Z1: UniqueCountsResult(values=array([0, 1]), counts=array([ 1, 49]))\n",
      "Z2: UniqueCountsResult(values=array([0, 1]), counts=array([ 1, 49]))\n",
      "Z3: UniqueCountsResult(values=array([0, 1]), counts=array([ 1, 49]))\n"
     ]
    }
   ],
   "source": [
    "N = 50\n",
    "x, y, z = 0.01, 0.01, 0.01\n",
    "fractions = [[x,1-x], [y, 1-y], [z, 1-z]]\n",
    "Z1, Z2, Z3 = EGT.init_populations(Ns=[N, N, N], fractionss=fractions)\n",
    "print(f\"Z1: {np.unique_counts(Z1)}\")\n",
    "print(f\"Z2: {np.unique_counts(Z2)}\")\n",
    "print(f\"Z3: {np.unique_counts(Z3)}\")"
   ]
  },
  {
   "cell_type": "markdown",
   "id": "259b688e-e485-4ad2-abef-35df72cd90ae",
   "metadata": {},
   "source": [
    "## Initialize Payoff Matrix"
   ]
  },
  {
   "cell_type": "code",
   "execution_count": 2,
   "id": "af1b6135-0dcd-4b2b-8790-14f5a1c9c573",
   "metadata": {},
   "outputs": [
    {
     "name": "stdout",
     "output_type": "stream",
     "text": [
      "Payoff Matrix: {(0, 0, 0): [0, 0, 0], (0, 0, 1): [0, 0, 0], (0, 1, 0): [0, 0, 0], (0, 1, 1): [0, 0, 0], (1, 0, 0): [0, 0, 0], (1, 0, 1): [0, 0, 0], (1, 1, 0): [0, 0, 0], (1, 1, 1): [0, 0, 0]}\n"
     ]
    }
   ],
   "source": [
    "strategies = [0, 1]  # D:0, C:1\n",
    "n = 3\n",
    "payoff_matrix = EGT.init_payoff_matrix(strategies=strategies, n=n)\n",
    "print(f\"Payoff Matrix: {payoff_matrix}\")"
   ]
  },
  {
   "cell_type": "code",
   "execution_count": null,
   "id": "e77730d5-5c43-4f00-ae66-36c8fa720a76",
   "metadata": {},
   "outputs": [],
   "source": []
  },
  {
   "cell_type": "code",
   "execution_count": null,
   "id": "3515431d-9645-4cd6-9e4b-738fd7ac2cc4",
   "metadata": {},
   "outputs": [],
   "source": []
  }
 ],
 "metadata": {
  "kernelspec": {
   "display_name": "Python 3 (ipykernel)",
   "language": "python",
   "name": "python3"
  },
  "language_info": {
   "codemirror_mode": {
    "name": "ipython",
    "version": 3
   },
   "file_extension": ".py",
   "mimetype": "text/x-python",
   "name": "python",
   "nbconvert_exporter": "python",
   "pygments_lexer": "ipython3",
   "version": "3.11.11"
  }
 },
 "nbformat": 4,
 "nbformat_minor": 5
}
