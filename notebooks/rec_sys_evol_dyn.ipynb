{
 "cells": [
  {
   "cell_type": "markdown",
   "id": "05f34b97-50d0-49f3-a29a-ff3421b49342",
   "metadata": {},
   "source": [
    "# Recommendation Systems Evolutionary Dynamics"
   ]
  }
 ],
 "metadata": {
  "kernelspec": {
   "display_name": "Python 3 (ipykernel)",
   "language": "python",
   "name": "python3"
  },
  "language_info": {
   "codemirror_mode": {
    "name": "ipython",
    "version": 3
   },
   "file_extension": ".py",
   "mimetype": "text/x-python",
   "name": "python",
   "nbconvert_exporter": "python",
   "pygments_lexer": "ipython3",
   "version": "3.11.11"
  }
 },
 "nbformat": 4,
 "nbformat_minor": 5
}
