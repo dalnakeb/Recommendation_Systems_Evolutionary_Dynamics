{
 "cells": [
  {
   "cell_type": "markdown",
   "id": "57fab891-0dc0-4632-87fb-0c36f36a63e7",
   "metadata": {},
   "source": [
    "# YouTube Recommendation System's Evolutionary Dynamics"
   ]
  },
  {
   "cell_type": "markdown",
   "id": "bb7f8125-3a6d-40ef-9bda-d4688b594215",
   "metadata": {},
   "source": [
    "## Imports"
   ]
  },
  {
   "cell_type": "code",
   "execution_count": null,
   "id": "364509af-e18c-4e8b-afd0-4983e0f6cfec",
   "metadata": {},
   "outputs": [],
   "source": [
    "from recommendation_systems_evolutionary_dynamics import EGT\n",
    "import numpy as np\n",
    "import matplotlib.pylab as plt"
   ]
  },
  {
   "cell_type": "markdown",
   "id": "4b50db1c-008c-4319-bb6a-23262c38f507",
   "metadata": {},
   "source": [
    "## Initialize Game\n",
    "1. Strategies counts for each populations (imiplicitly defining populations sizes)\n",
    "2. actions names\n",
    "3. players names\n",
    "4. payoff matrix"
   ]
  },
  {
   "cell_type": "code",
   "execution_count": null,
   "id": "fad5e62f-165b-42e4-9edd-39c9eac7669a",
   "metadata": {},
   "outputs": [],
   "source": [
    "strategies_countss = [[25, 25, 25, 25], [25, 25], [25, 25]]\n",
    "#strategies_countss = [[25, 25], [25, 25], [25, 25]]\n",
    "\n",
    "actions_names = [[\"Low\", \"High\", \"watch\", \"skip\"], [\"Low\", \"High\"], [\"Low\", \"High\"]]\n",
    "#actions_names = [[\"Low\", \"High\"], [\"Low\", \"High\"], [\"Low\", \"High\"]]\n",
    "\n",
    "players_names = [\"Consumer\", \"Platform\", \"Provider\"]\n",
    "actions_symbols = [[\"L\", \"H\", \"W\", \"S\"], [\"L\", \"H\"], [\"L\", \"H\"]]\n",
    "#actions_symbols = [[\"L\", \"H\"], [\"L\", \"H\"], [\"L\", \"H\"]]\n",
    "\n",
    "a = 0.2\n",
    "rl = 0.2\n",
    "rh = 0.1\n",
    "br = 0.4 # or 0.2 or 0.0\n",
    "cl = 0.05\n",
    "ch = 0.15\n",
    "\n",
    "# a < br\n",
    "# cl < ch < a\n",
    "# rh < rl\n",
    "\n",
    "payoff_view_count = {\n",
    "    (0, 0, 0): [rl,  a-br,  a-cl],  \n",
    "    (0, 0, 1): [0,  0,  -ch],   \n",
    "    (0, 1, 0): [0, 0,  -cl],   \n",
    "    (0, 1, 1): [0,  0,  -ch],   \n",
    "    (1, 0, 0): [0, -br,  -cl],   \n",
    "    (1, 0, 1): [0, 0,  -ch],   \n",
    "    (1, 1, 0): [0, 0,  -cl],    \n",
    "    (1, 1, 1): [rh, a,  a-ch]    \n",
    "}\n",
    "\n",
    "a = 0.2\n",
    "rl = 0.2\n",
    "rh = 0.1\n",
    "br = 0.4 # or 0.2 or 0.0\n",
    "cl = 0.05\n",
    "ch = 0.15\n",
    "ul = 0.2\n",
    "uh = 0.4\n",
    "\n",
    "payoff_watch_time = {\n",
    "    (0, 0, 0): [rl, -br,  -cl],  \n",
    "    (0, 0, 1): [0,  0,  -ch],   \n",
    "    (0, 1, 0): [0, 0,  -cl],   \n",
    "    (0, 1, 1): [0,  0,  -ch],   \n",
    "    (1, 0, 0): [0, -br,  -cl],   \n",
    "    (1, 0, 1): [0, 0,  -ch],   \n",
    "    (1, 1, 0): [0, 0,  -cl],   \n",
    "    (1, 1, 1): [rh, 0,  -ch],\n",
    "    \n",
    "    (2, 0, 0): [rl+ul, a-br,  a-cl],  \n",
    "    (2, 0, 1): [0,  0,  -ch],   \n",
    "    (2, 1, 0): [0, 0,  -cl],   \n",
    "    (2, 1, 1): [0,  0,  -ch],   \n",
    "    (3, 0, 0): [0, -br,  -cl],   \n",
    "    (3, 0, 1): [0, 0,  -ch],   \n",
    "    (3, 1, 0): [0, 0,  -cl],   \n",
    "    (3, 1, 1): [rh+uh, a,  a-ch]\n",
    "}\n",
    "\n",
    "payoff_matrix = payoff_watch_time\n",
    "\n",
    "game = EGT.Game(strategies_countss=strategies_countss, payoff_matrix=payoff_matrix, actions_names=actions_names, players_names=players_names)\n",
    "\n",
    "Ps = game.get_populations()\n",
    "for i, P in enumerate(Ps):\n",
    "    print(f\"P{i}: {np.unique_counts(P)}\")\n",
    "print(game.get_payoff_matrix())"
   ]
  },
  {
   "cell_type": "markdown",
   "id": "dbaa77f3-7d22-4509-9020-d83320b31056",
   "metadata": {},
   "source": [
    "## Evolutionary Dynamics (Finite Populations)"
   ]
  },
  {
   "cell_type": "markdown",
   "id": "27228322-01ff-4778-8e5f-6bb774b45d86",
   "metadata": {},
   "source": [
    "### Moran Process"
   ]
  },
  {
   "cell_type": "markdown",
   "id": "f229718d-cefe-46ae-b5fb-bdb03459cab6",
   "metadata": {
    "jp-MarkdownHeadingCollapsed": true
   },
   "source": [
    "#### Birth_Death Async"
   ]
  },
  {
   "cell_type": "code",
   "execution_count": null,
   "id": "ba9be272-4262-4ac8-a92e-9c00eee9b1bd",
   "metadata": {},
   "outputs": [],
   "source": [
    "steps = 1000\n",
    "rep = 50\n",
    "\n",
    "mean_fractionss_hist, fractionss_hist, Ps_hist = game.moran_process(process = \"bd\", sync=False, reps=rep, steps=steps, beta=2.5, mu=0.02, return_hist=True, print_rep_interval=rep//5)"
   ]
  },
  {
   "cell_type": "markdown",
   "id": "ee04650c-e2fc-4f77-956b-2c82f95e17cf",
   "metadata": {},
   "source": [
    "##### Evolution Visualization"
   ]
  },
  {
   "cell_type": "code",
   "execution_count": null,
   "id": "e1f29ede-6e4c-49a5-9639-225026737c19",
   "metadata": {},
   "outputs": [],
   "source": [
    "actions = [3,1,1]\n",
    "game.plot_strategy_evol(mean_fractionss_hist, actions=actions, xlabel=\"Time\", ylabel=f\"Strategy Fraction\", title=f\"Strategy Evolution (Birth-Death Async)\")"
   ]
  },
  {
   "cell_type": "markdown",
   "id": "7595c88c-fe32-4f53-b18b-3436270b3f6e",
   "metadata": {},
   "source": [
    "##### Stationary Distribution"
   ]
  },
  {
   "cell_type": "code",
   "execution_count": null,
   "id": "fe19e700-19a8-4e36-a508-1b90f1f1a564",
   "metadata": {},
   "outputs": [],
   "source": [
    "for player in range(len(players_names)):\n",
    "    game.plot_stationary_dist(Ps_hist, player=player, action=actions[player], xlabel=f\"Number of {actions_names[player][actions[player]]}\", ylabel=\"Fraction of Time\" , title=f\"{players_names[player]} {actions_names[player][actions[player]]} Stationary Distribution (Birth-Death Async)\")"
   ]
  },
  {
   "cell_type": "markdown",
   "id": "e5d09c2d-2858-4ef0-892a-24265c815045",
   "metadata": {
    "jp-MarkdownHeadingCollapsed": true
   },
   "source": [
    "#### Birth_Death Sync"
   ]
  },
  {
   "cell_type": "code",
   "execution_count": null,
   "id": "c60ed742-f0cb-4a39-8172-ddd712700215",
   "metadata": {},
   "outputs": [],
   "source": [
    "steps = 400\n",
    "rep = 20\n",
    "\n",
    "mean_fractionss_hist, fractionss_hist, Ps_hist = game.moran_process(process = \"bd\", sync=True, reps=rep, steps=steps, beta=2.5, mu=0.02, return_hist=True, print_rep_interval=rep//5)"
   ]
  },
  {
   "cell_type": "markdown",
   "id": "f2d98351-c12d-4702-af9b-2a916fe1708c",
   "metadata": {},
   "source": [
    "##### Evolution Visualization"
   ]
  },
  {
   "cell_type": "code",
   "execution_count": null,
   "id": "9d905a57-9a5e-4d62-8964-6b9c7335d618",
   "metadata": {},
   "outputs": [],
   "source": [
    "actions = [3,1,1]\n",
    "game.plot_strategy_evol(mean_fractionss_hist, actions=actions, xlabel=\"Time\", ylabel=f\"Strategy Fraction\", title=f\"Strategy Evolution (Birth-Death Sync)\")"
   ]
  },
  {
   "cell_type": "markdown",
   "id": "76bee9c5-2c9f-4ab9-a459-69c22de8d7d4",
   "metadata": {},
   "source": [
    "##### Stationary Distribution"
   ]
  },
  {
   "cell_type": "code",
   "execution_count": null,
   "id": "3921eb9f-5445-4083-86fe-2d95ae28fcdf",
   "metadata": {},
   "outputs": [],
   "source": [
    "for player in range(len(players_names)):\n",
    "    game.plot_stationary_dist(Ps_hist, player=player, action=actions[player], xlabel=f\"Number of {actions_names[player][actions[player]]}\", ylabel=\"Fraction of Time\" , title=f\"{players_names[player]} {actions_names[player][actions[player]]} Stationary Distribution (Birth-Death Sync)\")"
   ]
  },
  {
   "cell_type": "markdown",
   "id": "e4cd79b3-7f0d-4110-903f-81bef3e57e0f",
   "metadata": {
    "jp-MarkdownHeadingCollapsed": true
   },
   "source": [
    "#### Death-Birth Async"
   ]
  },
  {
   "cell_type": "code",
   "execution_count": null,
   "id": "ce5b76c4-cb16-4024-9602-675b407db3d1",
   "metadata": {},
   "outputs": [],
   "source": [
    "steps = 1000\n",
    "rep = 50\n",
    "\n",
    "mean_fractionss_hist, fractionss_hist, Ps_hist = game.moran_process(process = \"db\", sync=False, reps=rep, steps=steps, beta=2.5, mu=0.02, return_hist=True, print_rep_interval=rep//5)"
   ]
  },
  {
   "cell_type": "markdown",
   "id": "e6136d98-0d6b-452f-8a61-be90c91fd0fd",
   "metadata": {},
   "source": [
    "##### Evolution Visualization"
   ]
  },
  {
   "cell_type": "code",
   "execution_count": null,
   "id": "f54f1ea6-d68a-478d-8a18-0c3185822470",
   "metadata": {},
   "outputs": [],
   "source": [
    "actions = [3,1,1]\n",
    "game.plot_strategy_evol(mean_fractionss_hist, actions=actions, xlabel=\"Time\", ylabel=f\"Strategy Fraction\", title=f\"Strategy Evolution (Death-Birth Async)\")"
   ]
  },
  {
   "cell_type": "markdown",
   "id": "3b44d161-b6c6-4257-961d-bfae9df5aca4",
   "metadata": {},
   "source": [
    "##### Stationary Distribution"
   ]
  },
  {
   "cell_type": "code",
   "execution_count": null,
   "id": "f6d0e08e-c557-4ee0-908c-c8c01c295e9e",
   "metadata": {},
   "outputs": [],
   "source": [
    "for player in range(len(players_names)):\n",
    "    game.plot_stationary_dist(Ps_hist, player=player, action=actions[player], xlabel=f\"Number of {actions_names[player][actions[player]]}\", ylabel=\"Fraction of Time\" , title=f\"{players_names[player]} {actions_names[player][actions[player]]} Stationary Distribution (Death-Birth Async)\")"
   ]
  },
  {
   "cell_type": "markdown",
   "id": "a00082e4-4696-4e93-8edb-7a47bef929d9",
   "metadata": {
    "jp-MarkdownHeadingCollapsed": true
   },
   "source": [
    "#### Death-Birth Sync"
   ]
  },
  {
   "cell_type": "code",
   "execution_count": null,
   "id": "b5aafbfb-68ba-43fb-b032-1a886cb0d693",
   "metadata": {},
   "outputs": [],
   "source": [
    "steps = 800\n",
    "rep = 50\n",
    "\n",
    "mean_fractionss_hist, fractionss_hist, Ps_hist = game.moran_process(process = \"db\", sync=True, reps=rep, steps=steps, beta=2.5, mu=0.02, return_hist=True, print_rep_interval=rep//5)"
   ]
  },
  {
   "cell_type": "markdown",
   "id": "1edf089a-194a-4049-afa7-0dbb93589ea9",
   "metadata": {},
   "source": [
    "##### Evolution Visualization"
   ]
  },
  {
   "cell_type": "code",
   "execution_count": null,
   "id": "8a850915-1b22-4d36-b327-6eb31fb73ee7",
   "metadata": {},
   "outputs": [],
   "source": [
    "actions = [3,1,1]\n",
    "game.plot_strategy_evol(mean_fractionss_hist, actions=actions, xlabel=\"Time\", ylabel=f\"Strategy Fraction\", title=f\"Strategy Evolution (Death-Birth Sync)\")"
   ]
  },
  {
   "cell_type": "markdown",
   "id": "714a68ab-af8d-49cb-8085-f07d5cf7f4c4",
   "metadata": {},
   "source": [
    "##### Stationary Distribution"
   ]
  },
  {
   "cell_type": "code",
   "execution_count": null,
   "id": "77b809cb-8955-48a5-87ff-62deb0e29627",
   "metadata": {},
   "outputs": [],
   "source": [
    "for player in range(len(players_names)):\n",
    "    game.plot_stationary_dist(Ps_hist, player=player, action=actions[player], xlabel=f\"Number of {actions_names[player][actions[player]]}\", ylabel=\"Fraction of Time\" , title=f\"{players_names[player]} {actions_names[player][actions[player]]} Stationary Distribution (Death-Birth Sync)\")"
   ]
  },
  {
   "cell_type": "markdown",
   "id": "63e51d96-c89c-4549-92bb-4620b20f37d1",
   "metadata": {},
   "source": [
    "#### Pairwise Async"
   ]
  },
  {
   "cell_type": "code",
   "execution_count": null,
   "id": "97cf6d7b-5f21-4429-b44e-4e834803bb79",
   "metadata": {},
   "outputs": [],
   "source": [
    "steps = 2000\n",
    "rep = 40\n",
    "\n",
    "mean_fractionss_hist, fractionss_hist, Ps_hist = game.moran_process(process = \"pairwise\", sync=False, reps=rep, steps=steps, beta=2.5, mu=0.02, return_hist=True, print_rep_interval=rep//5)"
   ]
  },
  {
   "cell_type": "markdown",
   "id": "19f89afb-c4ef-4ab5-98d9-618791fac2b2",
   "metadata": {},
   "source": [
    "##### Evolution Visualization"
   ]
  },
  {
   "cell_type": "code",
   "execution_count": null,
   "id": "1021bc47-1dc5-47c4-848f-ba9cf0348b13",
   "metadata": {},
   "outputs": [],
   "source": [
    "actions = [3,1,1]\n",
    "game.plot_strategy_evol(mean_fractionss_hist, actions=actions, xlabel=\"Time\", ylabel=f\"Strategy Fraction\", title=f\"Strategy Evolution (Pairwise Async)\")"
   ]
  },
  {
   "cell_type": "markdown",
   "id": "ff5e8d95-42a5-44d1-acc9-998dab59e875",
   "metadata": {},
   "source": [
    "##### Stationary Distribution"
   ]
  },
  {
   "cell_type": "code",
   "execution_count": null,
   "id": "61a42464-bcd8-4c7b-b5a6-171369af6206",
   "metadata": {},
   "outputs": [],
   "source": [
    "for player in range(len(players_names)):\n",
    "    game.plot_stationary_dist(Ps_hist, player=player, action=actions[player], xlabel=f\"Number of {actions_names[player][actions[player]]}\", ylabel=\"Fraction of Time\" , title=f\"{players_names[player]} {actions_names[player][actions[player]]} Stationary Distribution (Pairwise Async)\")"
   ]
  },
  {
   "cell_type": "markdown",
   "id": "fada65a4-85ef-469c-8b8f-4e90d3a9731d",
   "metadata": {
    "jp-MarkdownHeadingCollapsed": true
   },
   "source": [
    "#### Pairwise Sync"
   ]
  },
  {
   "cell_type": "code",
   "execution_count": null,
   "id": "d05aa71b-6a8c-4a9b-bca6-0e3bfd6a2aa2",
   "metadata": {},
   "outputs": [],
   "source": [
    "steps = 400\n",
    "rep = 50\n",
    "\n",
    "mean_fractionss_hist, fractionss_hist, Ps_hist = game.moran_process(process = \"pairwise\", sync=True, reps=rep, steps=steps, beta=2.5, mu=0.02, return_hist=True, print_rep_interval=rep//5)"
   ]
  },
  {
   "cell_type": "markdown",
   "id": "e24cde1d-9daf-41ac-87b7-a3aaf31a12fc",
   "metadata": {},
   "source": [
    "##### Evolution Visualization"
   ]
  },
  {
   "cell_type": "code",
   "execution_count": null,
   "id": "7f9bf47a-f189-4768-bbca-9e84ed8c79a1",
   "metadata": {},
   "outputs": [],
   "source": [
    "actions = [3,1,1]\n",
    "game.plot_strategy_evol(mean_fractionss_hist, actions=actions, xlabel=\"Time\", ylabel=f\"Strategy Fraction\", title=f\"Strategy Evolution (Pairwise Sync)\")"
   ]
  },
  {
   "cell_type": "markdown",
   "id": "5ab2d2ba-a667-4a48-bfea-e733a194992f",
   "metadata": {},
   "source": [
    "##### Stationary Distribution"
   ]
  },
  {
   "cell_type": "code",
   "execution_count": null,
   "id": "49fadc2f-b677-4a71-b0ba-1a7d1f367ab5",
   "metadata": {
    "scrolled": true
   },
   "outputs": [],
   "source": [
    "for player in range(len(players_names)):\n",
    "    game.plot_stationary_dist(Ps_hist, player=player, action=actions[player], xlabel=f\"Number of {actions_names[player][actions[player]]}\", ylabel=\"Fraction of Time\" , title=f\"{players_names[player]} {actions_names[player][actions[player]]} Stationary Distribution (Pairwise Sync)\")"
   ]
  },
  {
   "cell_type": "markdown",
   "id": "d7552d56-83a6-458f-a785-a1aca137f828",
   "metadata": {},
   "source": [
    "### Transition Matrix (Embedded Markov Chain)"
   ]
  },
  {
   "cell_type": "code",
   "execution_count": null,
   "id": "8ae53cea-f578-4082-ab1a-9686d9c538fa",
   "metadata": {},
   "outputs": [],
   "source": [
    "matrix, states = game.compute_trans_matrix(beta=0.08)"
   ]
  },
  {
   "cell_type": "markdown",
   "id": "ddfb4a79-6624-4298-bfab-e80a73965c56",
   "metadata": {},
   "source": [
    "#### Embedded Markov Chain Visualization"
   ]
  },
  {
   "cell_type": "code",
   "execution_count": null,
   "id": "9fcff524-4431-4cf0-9440-8d749b73b384",
   "metadata": {},
   "outputs": [],
   "source": [
    "game.plot_transition_matrix(matrix, states=states, actions_symbols=actions_symbols, scale=40)"
   ]
  },
  {
   "cell_type": "markdown",
   "id": "85ddc624-524b-4ba2-b04b-b68cc7227b3d",
   "metadata": {},
   "source": [
    "##### Most probable route given a starting state and an ending state"
   ]
  },
  {
   "cell_type": "code",
   "execution_count": null,
   "id": "2b7705d1-c4d4-47ca-8a18-ca00cf94901e",
   "metadata": {},
   "outputs": [],
   "source": [
    "start_state = (0,0,0)\n",
    "end_state = (1,1,1)\n",
    "game.plot_transition_matrix_most_probable_route_from_i_to_j(matrix, states, actions_symbols, start_state, end_state, scale=40)"
   ]
  },
  {
   "cell_type": "markdown",
   "id": "16096eef-1985-4ebf-b453-fa9ff2777ea7",
   "metadata": {},
   "source": [
    "##### Most probable route given a starting state"
   ]
  },
  {
   "cell_type": "code",
   "execution_count": null,
   "id": "fee4ebcc-4cc2-442b-a5df-980c1165002f",
   "metadata": {},
   "outputs": [],
   "source": [
    "start_state = (0,0,0)\n",
    "game.plot_transition_matrix_most_probable_route_from_i(matrix, states, actions_symbols, start_state, scale=40)"
   ]
  },
  {
   "cell_type": "markdown",
   "id": "ce0e1b2b-d694-429d-93a8-af5070f0555d",
   "metadata": {},
   "source": [
    "#### Stationary distrtibution from Transition Matrix "
   ]
  },
  {
   "cell_type": "code",
   "execution_count": null,
   "id": "de32d1ba-963a-4cd2-b8ba-3f11a717f7e3",
   "metadata": {},
   "outputs": [],
   "source": [
    "stationary_distribution = game.compute_stationary_distribution(matrix)\n",
    "stationary_distribution"
   ]
  },
  {
   "cell_type": "markdown",
   "id": "01bb1ff4-3e95-470d-b097-f0de0a9ac258",
   "metadata": {},
   "source": [
    "##### Visualize Stationary Distributions"
   ]
  },
  {
   "cell_type": "code",
   "execution_count": null,
   "id": "5e7e0fb2-c8cc-40c3-9360-ca1ee53d614a",
   "metadata": {},
   "outputs": [],
   "source": [
    "game.plot_stationary_distribution_all_pop(stationary_distribution, actions_symbols=actions_symbols, states=states, title=\"Stationary Distribution All Populations\", ylabel=\"Fraction of Time\")\n",
    "for player in range(len(players_names)):\n",
    "    game.plot_stationary_distribution_per_pop(stationary_distribution, player=player, actions_symbols=actions_symbols, states=states, title=f\"Stationary Distribution ({players_names[player]})\", ylabel=\"Fraction of Time\")"
   ]
  },
  {
   "cell_type": "markdown",
   "id": "274e8a7a-7c91-4e37-a21e-614c8c949169",
   "metadata": {},
   "source": [
    "### Gradient of Selection (for 3-population 2 actions games)"
   ]
  },
  {
   "cell_type": "code",
   "execution_count": null,
   "id": "a6b1798c-c94a-4dde-bc18-226e42547d22",
   "metadata": {},
   "outputs": [],
   "source": [
    "strategies_countss = [[9, 1], [9, 1], [9, 1]]\n",
    "\n",
    "game = EGT.Game(strategies_countss=strategies_countss, payoff_matrix=payoff_matrix, actions_names=actions_names, players_names=players_names)\n",
    "\n",
    "Ps = game.get_populations()\n",
    "for i, P in enumerate(Ps):\n",
    "    print(f\"P{i}: {np.unique_counts(P)}\")\n",
    "print(game.get_payoff_matrix())\n",
    "\n",
    "beta = 2.5\n",
    "mu = 0.02\n",
    "X, Y, Z, G1, G2, G3 = game.compute_gradient_of_selection(beta, mu)"
   ]
  },
  {
   "cell_type": "markdown",
   "id": "d816edde-fb04-4872-9ef3-60add5f48ca8",
   "metadata": {},
   "source": [
    "#### Visualize Gradient of Selection"
   ]
  },
  {
   "cell_type": "code",
   "execution_count": null,
   "id": "b804367e-fdaf-4b1c-b8cc-b59914aef0e6",
   "metadata": {},
   "outputs": [],
   "source": [
    "game.plot_gradient_of_selection(X, Y, Z, G1, G2, G3, players_names=players_names, fraction_name=\"H\", legend=\"Gradient of Selection\", threshold=0.00)"
   ]
  },
  {
   "cell_type": "markdown",
   "id": "cb679404-73ca-451d-be67-724d1d88cfe5",
   "metadata": {
    "jp-MarkdownHeadingCollapsed": true
   },
   "source": [
    "## Evolutionary Dynamics (Infinite Populations)"
   ]
  },
  {
   "cell_type": "markdown",
   "id": "76ceb7ed-fdf7-4992-aceb-296f74847b12",
   "metadata": {},
   "source": [
    "### Replicator Dynamics"
   ]
  },
  {
   "cell_type": "code",
   "execution_count": null,
   "id": "2eb45c1f-34ee-4125-9d20-3f1acada3670",
   "metadata": {},
   "outputs": [],
   "source": [
    "strategies_counts = [[50, 0], [50, 0], [49, 1]]\n",
    "game = EGT.Game(strategies_countss=strategies_countss, payoff_matrix=payoff_matrix, actions_names=actions_names, players_names=players_names)\n",
    "\n",
    "dt = 0.01\n",
    "steps = 10000\n",
    "strategies_fractionss_hist, gradients = game.compute_iterative_replicator_dynamics(dt, steps)"
   ]
  },
  {
   "cell_type": "markdown",
   "id": "221c2d5e-ebb7-49e8-95d4-75f61fa786b9",
   "metadata": {},
   "source": [
    "#### Visualize Replicator Dynamics Strategies Evolution"
   ]
  },
  {
   "cell_type": "code",
   "execution_count": null,
   "id": "1cab4588-afa1-4a9d-be08-ee62cd88e236",
   "metadata": {},
   "outputs": [],
   "source": [
    "game.plot_replicator_dynamics_strategies_evol(strategies_fractionss_hist)"
   ]
  }
 ],
 "metadata": {
  "kernelspec": {
   "display_name": "Python 3 (ipykernel)",
   "language": "python",
   "name": "python3"
  },
  "language_info": {
   "codemirror_mode": {
    "name": "ipython",
    "version": 3
   },
   "file_extension": ".py",
   "mimetype": "text/x-python",
   "name": "python",
   "nbconvert_exporter": "python",
   "pygments_lexer": "ipython3",
   "version": "3.11.11"
  }
 },
 "nbformat": 4,
 "nbformat_minor": 5
}
